{
 "cells": [
  {
   "cell_type": "code",
   "execution_count": 2,
   "metadata": {},
   "outputs": [],
   "source": [
    "import tmdbsimple as tmdb\n",
    "from owlready2 import *\n",
    "import requests\n"
   ]
  },
  {
   "cell_type": "code",
   "execution_count": 4,
   "metadata": {},
   "outputs": [],
   "source": [
    "tmdb.REQUESTS_SESSION = requests.Session()\n",
    "tmdb.API_KEY = '1e11e7d4c5f3aad6e459fc0f63bfb0f5'\n",
    "tmdb.REQUESTS_TIMEOUT = 5"
   ]
  },
  {
   "cell_type": "code",
   "execution_count": 34,
   "metadata": {},
   "outputs": [
    {
     "data": {
      "text/plain": [
       "get_ontology(\"http://www.upv.es/muiarfid/peliculas#\")"
      ]
     },
     "execution_count": 34,
     "metadata": {},
     "output_type": "execute_result"
    }
   ],
   "source": [
    "# onto = get_ontology(\"../peliculas.owx\")\n",
    "# # carga el contenido de la ontología\n",
    "# onto.load()"
   ]
  },
  {
   "cell_type": "code",
   "execution_count": 63,
   "metadata": {},
   "outputs": [
    {
     "name": "stdout",
     "output_type": "stream",
     "text": [
      "[3, 4, 5]\n"
     ]
    }
   ],
   "source": [
    "#Peliculas\n",
    "with open('ml-100k/u.item', errors='ignore') as f:\n",
    "    movies = [l.split('|') for l in f.readlines()]\n",
    "\n",
    "for movie in movies:\n",
    "    movie_id = movie[0]\n",
    "    movie_title = movie[1]\n",
    "    movie_date = movie[2]\n",
    "    movie_url = movie[3]\n",
    "    movie_genres = []\n",
    "    for i, item in enumerate(movie[5:]):\n",
    "        if item == '1':\n",
    "            movie_genres.append(i)\n",
    "\n",
    "#Usuarios\n",
    "with open('ml-100k/u.user', errors='ignore') as f:\n",
    "    users = [l.split('|') for l in f.readlines()]\n",
    "\n",
    "for user in users:\n",
    "    user_id = user[0]\n",
    "    user_age = user[1]\n",
    "    user_gender = user[2]\n",
    "    user_profession = user[3]\n",
    "    user_code = user[4]\n",
    "\n",
    "#Datos\n",
    "with open('ml-100k/u.data', errors='ignore') as f:\n",
    "    data = [l.split('\\t') for l in f.readlines()]\n",
    "\n",
    "for line in data:\n",
    "    movie_id = line[1]\n",
    "    user_id = line[0]\n",
    "    score = line[2]\n",
    "\n",
    "    "
   ]
  },
  {
   "cell_type": "code",
   "execution_count": 56,
   "metadata": {},
   "outputs": [
    {
     "data": {
      "text/plain": [
       "[{'adult': False,\n",
       "  'backdrop_path': '/lxD5ak7BOoinRNehOCA85CQ8ubr.jpg',\n",
       "  'genre_ids': [16, 12, 10751, 35],\n",
       "  'id': 862,\n",
       "  'original_language': 'en',\n",
       "  'original_title': 'Toy Story',\n",
       "  'overview': \"Led by Woody, Andy's toys live happily in his room until Andy's birthday brings Buzz Lightyear onto the scene. Afraid of losing his place in Andy's heart, Woody plots against Buzz. But when circumstances separate Buzz and Woody from their owner, the duo eventually learns to put aside their differences.\",\n",
       "  'popularity': 120.359,\n",
       "  'poster_path': '/uXDfjJbdP4ijW5hWSBrPrlKpxab.jpg',\n",
       "  'release_date': '1995-10-30',\n",
       "  'title': 'Toy Story',\n",
       "  'video': False,\n",
       "  'vote_average': 7.967,\n",
       "  'vote_count': 16506},\n",
       " {'adult': False,\n",
       "  'backdrop_path': '/k7vO3lOOkxZ88Bieu5UQLEBKZOl.jpg',\n",
       "  'genre_ids': [99],\n",
       "  'id': 711704,\n",
       "  'original_language': 'en',\n",
       "  'original_title': \"Making 'Toy Story'\",\n",
       "  'overview': 'Documentary of the making of the groundbreaking Disney/Pixar animated hit movie.',\n",
       "  'popularity': 5.648,\n",
       "  'poster_path': '/s2vPOYtuOY3DMYTduRx0cOzDcWm.jpg',\n",
       "  'release_date': '1995-12-02',\n",
       "  'title': \"Making 'Toy Story'\",\n",
       "  'video': False,\n",
       "  'vote_average': 7.0,\n",
       "  'vote_count': 5}]"
      ]
     },
     "execution_count": 56,
     "metadata": {},
     "output_type": "execute_result"
    }
   ],
   "source": [
    "#https://image.tmdb.org/t/p/original/[PATH] FOTOS\n",
    "movie = tmdb.Search().movie(query=\"Toy Story\", year=1995)\n",
    "movie[\"results\"]"
   ]
  },
  {
   "cell_type": "code",
   "execution_count": 54,
   "metadata": {},
   "outputs": [
    {
     "data": {
      "text/plain": [
       "['David Hewlett',\n",
       " 'Henry Czerny',\n",
       " 'Brian Dodd',\n",
       " 'Sebastian Spence',\n",
       " 'Johnny Morina',\n",
       " 'Timothy Webber',\n",
       " 'Ashley Billard',\n",
       " 'Mary Walsh',\n",
       " 'Lise Roy',\n",
       " 'Alain Goulem']"
      ]
     },
     "execution_count": 54,
     "metadata": {},
     "output_type": "execute_result"
    }
   ],
   "source": [
    "actors = tmdb.Movies.credits(tmdb.Movies(77840))\n",
    "\n",
    "actores = [i[\"original_name\"] for i in actors[\"cast\"] if i[\"known_for_department\"] == \"Acting\"]\n",
    "actores"
   ]
  },
  {
   "cell_type": "code",
   "execution_count": null,
   "metadata": {},
   "outputs": [],
   "source": []
  }
 ],
 "metadata": {
  "kernelspec": {
   "display_name": "scar",
   "language": "python",
   "name": "python3"
  },
  "language_info": {
   "codemirror_mode": {
    "name": "ipython",
    "version": 3
   },
   "file_extension": ".py",
   "mimetype": "text/x-python",
   "name": "python",
   "nbconvert_exporter": "python",
   "pygments_lexer": "ipython3",
   "version": "3.9.16"
  },
  "orig_nbformat": 4
 },
 "nbformat": 4,
 "nbformat_minor": 2
}
