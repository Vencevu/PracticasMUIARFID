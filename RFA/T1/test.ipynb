{
 "cells": [
  {
   "cell_type": "code",
   "execution_count": 1,
   "metadata": {},
   "outputs": [],
   "source": [
    "import numpy as np\n",
    "import jax.numpy as jnp\n",
    "from scipy.optimize import minimize\n",
    "from jax.scipy import optimize \n",
    "import jax"
   ]
  },
  {
   "cell_type": "code",
   "execution_count": 2,
   "metadata": {},
   "outputs": [],
   "source": [
    "# number of observations\n",
    "N = 5000\n",
    "# number of parameters\n",
    "K = 2\n",
    "# true parameter values\n",
    "# beta = 2 * np.random.randn(K)\n",
    "beta = np.array([2,2])\n",
    "# true error std deviation\n",
    "sigma =  0.5\n",
    "\n",
    "def datagen(N, beta, sigma):\n",
    "    \"\"\"\n",
    "    Generates data for OLS regression.\n",
    "    Inputs:\n",
    "    N: Number of observations\n",
    "    beta: K x 1 true parameter values\n",
    "    sigma: std dev of error\n",
    "    \"\"\"\n",
    "    K = beta.shape[0]\n",
    "    x_ = 10 + 2 * np.random.randn(N,K-1)\n",
    "    # x is the N x K data matrix with column of ones\n",
    "    #   in the first position for estimating a constant\n",
    "    x = np.c_[np.ones(N),x_]\n",
    "    # y is the N x 1 vector of dependent variables\n",
    "    y = x.dot(beta) + sigma*np.random.randn(N)\n",
    "    return y, x\n",
    "\n",
    "y, x  = datagen(N, beta, sigma)"
   ]
  },
  {
   "cell_type": "code",
   "execution_count": 3,
   "metadata": {},
   "outputs": [],
   "source": [
    "def neg_loglike(theta):\n",
    "    beta = theta[:-1]\n",
    "    # transform theta[-1]\n",
    "    # so that sigma > 0\n",
    "    sigma = jnp.exp(theta[-1])\n",
    "    mu = jnp.dot(x,beta)\n",
    "    ll = jax.numpy.sum(jax.scipy.stats.norm.logpdf(y, loc=mu, scale=sigma))\n",
    "    return  (-1 * ll)/N"
   ]
  },
  {
   "cell_type": "code",
   "execution_count": 4,
   "metadata": {},
   "outputs": [],
   "source": [
    "jacobian = jax.jacfwd(neg_loglike)\n",
    "hessian = jax.hessian(neg_loglike)"
   ]
  },
  {
   "cell_type": "code",
   "execution_count": 5,
   "metadata": {},
   "outputs": [
    {
     "name": "stdout",
     "output_type": "stream",
     "text": [
      "Jacobian : [-0.02804999 -0.26064894  0.04582791] \n",
      "\n",
      "Hessian: [[4.0000029e+00 4.0129120e+01 5.6099977e-02]\n",
      " [4.0129120e+01 4.1863495e+02 5.2129787e-01]\n",
      " [5.6099974e-02 5.2129787e-01 1.9083445e+00]]\n"
     ]
    }
   ],
   "source": [
    "theta = jnp.append(beta,jnp.log(sigma))\n",
    "print(f'Jacobian : {jacobian(theta)} \\n')\n",
    "print(f'Hessian: {hessian(theta)}')"
   ]
  },
  {
   "cell_type": "code",
   "execution_count": 6,
   "metadata": {},
   "outputs": [
    {
     "name": "stdout",
     "output_type": "stream",
     "text": [
      "Optimization terminated successfully.\n",
      "         Current function value: 0.702219\n",
      "         Iterations: 22\n",
      "         Function evaluations: 31\n",
      "         Gradient evaluations: 31\n",
      "Convergence Achieved:  True\n",
      "Number of Function Evaluations:  31\n"
     ]
    }
   ],
   "source": [
    "theta_start = jax.numpy.append(jax.numpy.zeros(beta.shape[0]),0.0)\n",
    "res1 = minimize(neg_loglike, theta_start, method = 'BFGS', \n",
    "\t       options={'disp': True,'gtol': 1e-7*N}, jac = jacobian) # Tolerance added to aid in convergence\n",
    "print(\"Convergence Achieved: \", res1.success)\n",
    "print(\"Number of Function Evaluations: \", res1.nfev)"
   ]
  },
  {
   "cell_type": "code",
   "execution_count": 7,
   "metadata": {},
   "outputs": [
    {
     "name": "stdout",
     "output_type": "stream",
     "text": [
      "      fun: 0.7022186517715454\n",
      " hess_inv: array([[ 6.29904616e+00, -6.05553100e-01,  2.23532868e-02],\n",
      "       [-6.05553100e-01,  6.05430164e-02, -2.04262499e-03],\n",
      "       [ 2.23532868e-02, -2.04262499e-03,  5.17293897e-01]])\n",
      "      jac: array([3.1219483e-06, 4.0380863e-05, 5.0994877e-06], dtype=float32)\n",
      "  message: 'Optimization terminated successfully.'\n",
      "     nfev: 31\n",
      "      nit: 22\n",
      "     njev: 31\n",
      "   status: 0\n",
      "  success: True\n",
      "        x: array([ 2.01998299,  1.99870721, -0.71671744])\n"
     ]
    }
   ],
   "source": [
    "print(res1)"
   ]
  },
  {
   "cell_type": "code",
   "execution_count": 8,
   "metadata": {},
   "outputs": [
    {
     "name": "stdout",
     "output_type": "stream",
     "text": [
      "Coefficient estimates: 2.019982993143108, 1.9987072101363004\n",
      "Original sigma: 0.488352673054439\n"
     ]
    }
   ],
   "source": [
    "print(f'Coefficient estimates: {res1.x[0]}, {res1.x[1]}')\n",
    "\n",
    "new_sigma = np.exp(res1.x[-1])\n",
    "\n",
    "print(f'Original sigma: {new_sigma}')"
   ]
  },
  {
   "cell_type": "code",
   "execution_count": 9,
   "metadata": {},
   "outputs": [],
   "source": [
    "res2 = jax.scipy.optimize.minimize(neg_loglike, theta_start, tol=1e-7*N, method='BFGS')"
   ]
  },
  {
   "cell_type": "code",
   "execution_count": 10,
   "metadata": {},
   "outputs": [
    {
     "name": "stdout",
     "output_type": "stream",
     "text": [
      "OptimizeResults(x=DeviceArray([ 0.59281933,  6.1378427 , -1.5077661 ], dtype=float32), success=DeviceArray(False, dtype=bool), status=DeviceArray(3, dtype=int32, weak_type=True), fun=DeviceArray(27.986916, dtype=float32), jac=DeviceArray([ -2.8423486, -29.52571  , -51.29997  ], dtype=float32), hess_inv=DeviceArray([[ 0.9984879 , -0.01572122, -0.03550449],\n",
      "             [-0.01572122,  0.8365498 , -0.36913145],\n",
      "             [-0.03550449, -0.36913145,  0.16713503]], dtype=float32), nfev=DeviceArray(6, dtype=int32, weak_type=True), njev=DeviceArray(6, dtype=int32, weak_type=True), nit=DeviceArray(2, dtype=int32, weak_type=True))\n"
     ]
    }
   ],
   "source": [
    "print(res2)"
   ]
  },
  {
   "cell_type": "code",
   "execution_count": 11,
   "metadata": {},
   "outputs": [
    {
     "name": "stdout",
     "output_type": "stream",
     "text": [
      "Betas: 0.592819333076477, 6.137842655181885\n",
      "Original sigma: 0.22140401601791382\n"
     ]
    }
   ],
   "source": [
    "print(f'Betas: {res2.x[0]}, {res2.x[1]}')\n",
    "new_sigma = np.exp(res2.x[-1])\n",
    "print(f'Original sigma: {new_sigma}')"
   ]
  },
  {
   "cell_type": "code",
   "execution_count": null,
   "metadata": {},
   "outputs": [],
   "source": []
  }
 ],
 "metadata": {
  "kernelspec": {
   "display_name": "Python 3.9.13 ('jaxenv')",
   "language": "python",
   "name": "python3"
  },
  "language_info": {
   "codemirror_mode": {
    "name": "ipython",
    "version": 3
   },
   "file_extension": ".py",
   "mimetype": "text/x-python",
   "name": "python",
   "nbconvert_exporter": "python",
   "pygments_lexer": "ipython3",
   "version": "3.9.13"
  },
  "orig_nbformat": 4,
  "vscode": {
   "interpreter": {
    "hash": "873450d1fa596a97544b5efd561e0af303a44ddfb73183c3e1207b3d9b76979b"
   }
  }
 },
 "nbformat": 4,
 "nbformat_minor": 2
}
