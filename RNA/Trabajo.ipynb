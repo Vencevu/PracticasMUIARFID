{
 "cells": [
  {
   "cell_type": "code",
   "execution_count": null,
   "metadata": {},
   "outputs": [],
   "source": []
  }
 ],
 "metadata": {
  "kernelspec": {
   "display_name": "spade",
   "language": "python",
   "name": "python3"
  },
  "language_info": {
   "name": "python",
   "version": "3.9.15 (main, Nov 24 2022, 14:39:17) [MSC v.1916 64 bit (AMD64)]"
  },
  "orig_nbformat": 4,
  "vscode": {
   "interpreter": {
    "hash": "5265df8909d5cd73c164fad0a522d13fec62d0d8bd4ec63a20a32a5c20ce97ab"
   }
  }
 },
 "nbformat": 4,
 "nbformat_minor": 2
}
