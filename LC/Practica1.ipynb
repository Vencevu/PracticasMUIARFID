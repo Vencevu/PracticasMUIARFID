{
 "cells": [
  {
   "cell_type": "markdown",
   "id": "0e83a77e",
   "metadata": {},
   "source": [
    "# Ejercicio 1"
   ]
  },
  {
   "cell_type": "code",
   "execution_count": 1,
   "id": "5866f125",
   "metadata": {},
   "outputs": [],
   "source": [
    "cadena =\"El/DT perro/N come/V carne/N de/P la/DT carnicería/N y/C de/P la/DT nevera/N y/C canta/V el/DT la/N la/N la/N ./Fp\""
   ]
  },
  {
   "cell_type": "code",
   "execution_count": 2,
   "id": "1a64e2ba",
   "metadata": {},
   "outputs": [],
   "source": [
    "dic = {}\n",
    "for item in cadena.split(\" \"):\n",
    "    term = item.split(\"/\")[1]\n",
    "    if term not in dic.keys():\n",
    "        dic[term] = 1\n",
    "    else:\n",
    "        dic[term] += 1"
   ]
  },
  {
   "cell_type": "code",
   "execution_count": 3,
   "id": "03135a41",
   "metadata": {},
   "outputs": [],
   "source": [
    "sorted_dict = {k: dic[k] for k in sorted(dic)}"
   ]
  },
  {
   "cell_type": "code",
   "execution_count": 4,
   "id": "ccbd9f6d",
   "metadata": {},
   "outputs": [
    {
     "data": {
      "text/plain": [
       "{'C': 2, 'DT': 4, 'Fp': 1, 'N': 7, 'P': 2, 'V': 2}"
      ]
     },
     "execution_count": 4,
     "metadata": {},
     "output_type": "execute_result"
    }
   ],
   "source": [
    "sorted_dict"
   ]
  },
  {
   "cell_type": "markdown",
   "id": "edac22a3",
   "metadata": {},
   "source": [
    "# Ejercicio 2"
   ]
  },
  {
   "cell_type": "code",
   "execution_count": 5,
   "id": "01c423d9",
   "metadata": {},
   "outputs": [
    {
     "data": {
      "text/plain": [
       "{'.': {'frecuencia': 1, 'Fp': 1},\n",
       " 'canta': {'frecuencia': 1, 'V': 1},\n",
       " 'carne': {'frecuencia': 1, 'N': 1},\n",
       " 'carnicería': {'frecuencia': 1, 'N': 1},\n",
       " 'come': {'frecuencia': 1, 'V': 1},\n",
       " 'de': {'frecuencia': 2, 'P': 2},\n",
       " 'el': {'frecuencia': 2, 'DT': 2},\n",
       " 'la': {'frecuencia': 5, 'DT': 2, 'N': 3},\n",
       " 'nevera': {'frecuencia': 1, 'N': 1},\n",
       " 'perro': {'frecuencia': 1, 'N': 1},\n",
       " 'y': {'frecuencia': 2, 'C': 2}}"
      ]
     },
     "execution_count": 5,
     "metadata": {},
     "output_type": "execute_result"
    }
   ],
   "source": [
    "dic = {\n",
    "    \n",
    "}\n",
    "for item in cadena.split(\" \"):\n",
    "    term = item.split(\"/\")[0].lower()\n",
    "    tipo = item.split(\"/\")[1]\n",
    "    if term not in dic.keys():\n",
    "        dic[term] = {'frecuencia': 1, tipo: 1}\n",
    "    else:\n",
    "        dic[term]['frecuencia'] += 1\n",
    "        if tipo not in dic[term].keys():\n",
    "            dic[term][tipo] = 1\n",
    "        else:\n",
    "            dic[term][tipo] += 1\n",
    "\n",
    "sorted_dict = {k: dic[k] for k in sorted(dic)}\n",
    "sorted_dict"
   ]
  },
  {
   "cell_type": "markdown",
   "id": "3347a7fe",
   "metadata": {},
   "source": [
    "# Ejercicio 3"
   ]
  },
  {
   "cell_type": "code",
   "execution_count": 6,
   "id": "d8ec95e2",
   "metadata": {},
   "outputs": [
    {
     "data": {
      "text/plain": [
       "{('<S>', 'DT'): 1,\n",
       " ('DT', 'N'): 4,\n",
       " ('N', 'V'): 1,\n",
       " ('V', 'N'): 1,\n",
       " ('N', 'P'): 1,\n",
       " ('P', 'DT'): 2,\n",
       " ('N', 'C'): 2,\n",
       " ('C', 'P'): 1,\n",
       " ('C', 'V'): 1,\n",
       " ('V', 'DT'): 1,\n",
       " ('N', 'N'): 2,\n",
       " ('N', 'Fp'): 1,\n",
       " ('Fp', '</S>'): 1}"
      ]
     },
     "execution_count": 6,
     "metadata": {},
     "output_type": "execute_result"
    }
   ],
   "source": [
    "bigramas = {}\n",
    "p = [\"<S>\"]\n",
    "for item in cadena.split(\" \"):\n",
    "    term = item.split(\"/\")[1]\n",
    "    p.append(term)\n",
    "p.append(\"</S>\")\n",
    "for i in range(0, len(p)-1):\n",
    "    bigrama = (p[i], p[i+1])\n",
    "    if bigrama not in bigramas.keys():\n",
    "        bigramas[bigrama] = 1\n",
    "    else:\n",
    "        bigramas[bigrama] += 1\n",
    "bigramas"
   ]
  },
  {
   "cell_type": "markdown",
   "id": "658ce537",
   "metadata": {},
   "source": [
    "# Ejercicio 4"
   ]
  },
  {
   "cell_type": "code",
   "execution_count": 7,
   "id": "8ef13f54",
   "metadata": {},
   "outputs": [],
   "source": [
    "X = sorted_dict"
   ]
  },
  {
   "cell_type": "code",
   "execution_count": 8,
   "id": "3a3f364d",
   "metadata": {},
   "outputs": [],
   "source": [
    "def P(x, y):\n",
    "    if x in X.keys():\n",
    "        cont = 0\n",
    "        for i in X:\n",
    "            if y in X[i].keys():\n",
    "                cont += X[i][y]\n",
    "        return X[x][y]/cont\n",
    "    else:\n",
    "        return X[y][x] / X[y]['frecuencia']"
   ]
  },
  {
   "cell_type": "code",
   "execution_count": 10,
   "id": "dde3b0fa",
   "metadata": {},
   "outputs": [
    {
     "name": "stdout",
     "output_type": "stream",
     "text": [
      "0.4\n",
      "0.6\n",
      "0.5\n",
      "0.42857142857142855\n"
     ]
    }
   ],
   "source": [
    "print(P(\"DT\", \"la\"))\n",
    "print(P(\"N\", \"la\"))\n",
    "print(P(\"la\", \"DT\"))\n",
    "print(P(\"la\", \"N\"))"
   ]
  },
  {
   "cell_type": "code",
   "execution_count": 1,
   "id": "89a9c5c8",
   "metadata": {},
   "outputs": [
    {
     "name": "stdout",
     "output_type": "stream",
     "text": [
      "A\n"
     ]
    }
   ],
   "source": []
  },
  {
   "cell_type": "code",
   "execution_count": null,
   "id": "3039621a",
   "metadata": {},
   "outputs": [],
   "source": []
  }
 ],
 "metadata": {
  "kernelspec": {
   "display_name": "Python 3.7.11 ('TFG')",
   "language": "python",
   "name": "python3"
  },
  "language_info": {
   "codemirror_mode": {
    "name": "ipython",
    "version": 3
   },
   "file_extension": ".py",
   "mimetype": "text/x-python",
   "name": "python",
   "nbconvert_exporter": "python",
   "pygments_lexer": "ipython3",
   "version": "3.7.11"
  },
  "vscode": {
   "interpreter": {
    "hash": "cac8c148fe99531e69ba1d06939db520c9f4997d6650c8223f282d58b7ae5d8d"
   }
  }
 },
 "nbformat": 4,
 "nbformat_minor": 5
}
