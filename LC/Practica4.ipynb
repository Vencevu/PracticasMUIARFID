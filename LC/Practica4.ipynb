{
 "cells": [
  {
   "cell_type": "code",
   "execution_count": 32,
   "metadata": {
    "scrolled": false
   },
   "outputs": [
    {
     "name": "stderr",
     "output_type": "stream",
     "text": [
      "[nltk_data] Downloading package word2vec_sample to\n",
      "[nltk_data]     C:\\Users\\Alberto\\AppData\\Roaming\\nltk_data...\n",
      "[nltk_data]   Unzipping models\\word2vec_sample.zip.\n"
     ]
    }
   ],
   "source": [
    "import nltk\n",
    "from nltk.corpus import wordnet as wn\n",
    "from nltk.corpus import stopwords as sw\n",
    "import gensim\n",
    "import numpy as np"
   ]
  },
  {
   "cell_type": "code",
   "execution_count": 24,
   "metadata": {},
   "outputs": [],
   "source": [
    "stopWords = set(sw.words(\"english\"))"
   ]
  },
  {
   "cell_type": "code",
   "execution_count": 27,
   "metadata": {},
   "outputs": [],
   "source": [
    "def lesk(word, sentence):\n",
    "    senses =wn.synsets(word)\n",
    "    best_sense= senses[0]\n",
    "    max_overlap = 0\n",
    "    context = set(nltk.word_tokenize(sentence))\n",
    "    context = context.difference(stopWords)\n",
    "    for sense in senses[1:]:\n",
    "        data = set(nltk.word_tokenize(sense.definition()+\" \"+\" \".join( sense.examples())))\n",
    "        signature = data.difference(stopWords)\n",
    "        overlap = len(context.intersection(signature))\n",
    "        if overlap >max_overlap:\n",
    "            max_overlap = overlap\n",
    "            best_sense = sense\n",
    "            \n",
    "    return best_sense"
   ]
  },
  {
   "cell_type": "code",
   "execution_count": 28,
   "metadata": {},
   "outputs": [
    {
     "data": {
      "text/plain": [
       "Synset('depository_financial_institution.n.01')"
      ]
     },
     "execution_count": 28,
     "metadata": {},
     "output_type": "execute_result"
    }
   ],
   "source": [
    "lesk(\"bank\",\"Yesterday I went to the bank to withdraw the money and the credit card did not work\")"
   ]
  },
  {
   "cell_type": "code",
   "execution_count": 29,
   "metadata": {},
   "outputs": [],
   "source": [
    "def distanceCosine(a,b):\n",
    "    dot = np.dot(a, b)\n",
    "    norma = np.linalg.norm(a)\n",
    "    normb = np.linalg.norm(b)\n",
    "    cos = dot / (norma * normb)\n",
    "    return cos"
   ]
  },
  {
   "cell_type": "code",
   "execution_count": 30,
   "metadata": {},
   "outputs": [],
   "source": [
    "from nltk.data import find"
   ]
  },
  {
   "cell_type": "code",
   "execution_count": 33,
   "metadata": {},
   "outputs": [],
   "source": [
    "# Cargar el modelo de embeding pre-entrenados del NLTK\n",
    "word2vec_sample = str(find('models/word2vec_sample/pruned.word2vec.txt'))\n",
    "model = gensim.models.KeyedVectors.load_word2vec_format(word2vec_sample, binary=False)"
   ]
  },
  {
   "cell_type": "code",
   "execution_count": 34,
   "metadata": {},
   "outputs": [],
   "source": [
    "vector_mean =  model.vectors.mean(axis=0)"
   ]
  },
  {
   "cell_type": "code",
   "execution_count": 38,
   "metadata": {},
   "outputs": [],
   "source": [
    "def wsd_embeddings(word, sentence):\n",
    "    distances = []\n",
    "    senses =wn.synsets(word)\n",
    "    context = set(nltk.word_tokenize(sentence))\n",
    "    context = context.difference(stopWords)\n",
    "    matrixContext = np.zeros((len(context),300))\n",
    "    i= 0\n",
    "    for word in context:\n",
    "        if word in model.key_to_index:\n",
    "            matrixContext[i]=model[word]\n",
    "        else:\n",
    "            matrixContext[i]=vector_mean\n",
    "        i+=1\n",
    "    vectorcontext = matrixContext.mean(axis=0)\n",
    "    for sense in senses:\n",
    "        data = set(nltk.word_tokenize(sense.definition()+\" \"+\" \".join( sense.examples())))\n",
    "        signature = data.difference(stopWords)\n",
    "        matrixSiganture = np.zeros((len(signature),300))\n",
    "        i= 0\n",
    "        for word in signature:\n",
    "            if word in model.key_to_index:\n",
    "                matrixSiganture[i]=model[word]\n",
    "            else:\n",
    "                matrixSiganture[i]=vector_mean\n",
    "            i+=1\n",
    "        vectorSignature = matrixSiganture.mean(axis=0)\n",
    "\n",
    "        distances.append((sense,distanceCosine(vectorcontext,vectorSignature)))\n",
    "    \n",
    "            \n",
    "    return sorted(distances, key=lambda t:t[1],reverse=True)[0]"
   ]
  },
  {
   "cell_type": "code",
   "execution_count": 39,
   "metadata": {},
   "outputs": [],
   "source": [
    "t = wsd_embeddings(\"bank\", \"Yesterday I went to the bank to withdraw the money and the credit carddid not work\")"
   ]
  },
  {
   "cell_type": "code",
   "execution_count": 42,
   "metadata": {},
   "outputs": [
    {
     "data": {
      "text/plain": [
       "['She deposits her paycheck every month']"
      ]
     },
     "execution_count": 42,
     "metadata": {},
     "output_type": "execute_result"
    }
   ],
   "source": [
    "t[0].examples()"
   ]
  },
  {
   "cell_type": "code",
   "execution_count": null,
   "metadata": {},
   "outputs": [],
   "source": []
  }
 ],
 "metadata": {
  "kernelspec": {
   "display_name": "Python 3.7.11 ('TFG')",
   "language": "python",
   "name": "python3"
  },
  "language_info": {
   "codemirror_mode": {
    "name": "ipython",
    "version": 3
   },
   "file_extension": ".py",
   "mimetype": "text/x-python",
   "name": "python",
   "nbconvert_exporter": "python",
   "pygments_lexer": "ipython3",
   "version": "3.7.11"
  },
  "vscode": {
   "interpreter": {
    "hash": "cac8c148fe99531e69ba1d06939db520c9f4997d6650c8223f282d58b7ae5d8d"
   }
  }
 },
 "nbformat": 4,
 "nbformat_minor": 2
}
