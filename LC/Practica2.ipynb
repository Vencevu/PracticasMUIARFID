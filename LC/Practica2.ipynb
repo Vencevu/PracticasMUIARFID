{
 "cells": [
  {
   "cell_type": "code",
   "execution_count": 8,
   "metadata": {},
   "outputs": [
    {
     "name": "stderr",
     "output_type": "stream",
     "text": [
      "[nltk_data] Downloading package cess_esp to\n",
      "[nltk_data]     C:\\Users\\Alberto\\AppData\\Roaming\\nltk_data...\n",
      "[nltk_data]   Package cess_esp is already up-to-date!\n"
     ]
    }
   ],
   "source": [
    "import nltk\n",
    "import numpy as np\n",
    "nltk.download(\"cess_esp\")\n",
    "from nltk.corpus import cess_esp as cess"
   ]
  },
  {
   "cell_type": "code",
   "execution_count": 19,
   "metadata": {},
   "outputs": [],
   "source": [
    "tagged_sentences = []\n",
    "for sent in cess.tagged_sents():\n",
    "    tagged_sent = []\n",
    "    for word in sent:\n",
    "        tag = word[1]\n",
    "        if tag[0] not in ['v', 'f', 'V', 'F']:\n",
    "            tag = tag[:2]\n",
    "        elif tag[:2] == 'sn' and word[0] == \"*0*\":\n",
    "            continue\n",
    "        else:\n",
    "            tag = tag[:3]\n",
    "        tagged_sent.append((word[0], tag))\n",
    "    tagged_sentences.append(tagged_sent)"
   ]
  },
  {
   "cell_type": "code",
   "execution_count": 22,
   "metadata": {},
   "outputs": [
    {
     "name": "stdout",
     "output_type": "stream",
     "text": [
      "[0.9302101576182137, 0.9267685744756488, 0.9249848497965544, 0.9277964181445815, 0.9262966333030027, 0.887008175779254, 0.8922758620689655, 0.8929549560048948, 0.8968024114900408, 0.8895248998282771]\n",
      "[0.8980735551663748, 0.8908638464273018, 0.8886676478226994, 0.8923700379101486, 0.8951860999176741, 0.8444685743484925, 0.8622758620689656, 0.8521065205990327, 0.862639635912288, 0.8334287349742415]\n"
     ]
    }
   ],
   "source": [
    "from random import shuffle\n",
    "from sklearn.model_selection import KFold\n",
    "from nltk.tag import hmm, tnt\n",
    "\n",
    "hmm_acc = []\n",
    "tnt_acc = []\n",
    "    \n",
    "kf = KFold(10)\n",
    "for train_index, test_index in kf.split(tagged_sentences):\n",
    "    training_sents = [tagged_sentences[i] for i in train_index]\n",
    "    test_sents = [tagged_sentences[i] for i in test_index]\n",
    "\n",
    "    tagger_hmm=hmm.HiddenMarkovModelTagger.train(training_sents)\n",
    "    hmm_acc.append(tagger_hmm.accuracy(test_sents))\n",
    "\n",
    "    tagger_tnt= tnt.TnT()\n",
    "    tagger_tnt.train(training_sents)\n",
    "    tnt_acc.append(tagger_tnt.accuracy(test_sents))\n",
    "\n",
    "print(hmm_acc)\n",
    "print(tnt_acc)"
   ]
  },
  {
   "cell_type": "code",
   "execution_count": 28,
   "metadata": {},
   "outputs": [
    {
     "name": "stdout",
     "output_type": "stream",
     "text": [
      "[0.9257552483358935, 0.9313766670166964, 0.930825854593123, 0.9296352823535603, 0.9275414937759336, 0.9292570951585977, 0.932232524221273, 0.9320116309807032, 0.9248585479350643, 0.9261728021006919]\n",
      "[0.9019969278033794, 0.9055969757429382, 0.905364525562166, 0.9053207725909163, 0.9, 0.904580550918197, 0.9074903635795395, 0.906000528680941, 0.902014700438898, 0.9018835529970206]\n"
     ]
    }
   ],
   "source": [
    "hmm_acc_2 = []\n",
    "tnt_acc_2 = []\n",
    "    \n",
    "kf = KFold(10, shuffle=True)\n",
    "for train_index, test_index in kf.split(tagged_sentences):\n",
    "    training_sents = [tagged_sentences[i] for i in train_index]\n",
    "    test_sents = [tagged_sentences[i] for i in test_index]\n",
    "\n",
    "    tagger_hmm=hmm.HiddenMarkovModelTagger.train(training_sents)\n",
    "    hmm_acc_2.append(tagger_hmm.accuracy(test_sents))\n",
    "\n",
    "    tagger_tnt= tnt.TnT()\n",
    "    tagger_tnt.train(training_sents)\n",
    "    tnt_acc_2.append(tagger_tnt.accuracy(test_sents))\n",
    "\n",
    "print(hmm_acc_2)\n",
    "print(tnt_acc_2)"
   ]
  },
  {
   "cell_type": "code",
   "execution_count": 27,
   "metadata": {},
   "outputs": [
    {
     "data": {
      "image/png": "[encoded data removed]",
      "text/plain": [
       "<Figure size 432x288 with 1 Axes>"
      ]
     },
     "metadata": {
      "needs_background": "light"
     },
     "output_type": "display_data"
    }
   ],
   "source": [
    "from cProfile import label\n",
    "import matplotlib.pyplot as plt\n",
    "\n",
    "plt.scatter([i for i in range(1,11)], hmm_acc, label=\"hmm\")\n",
    "plt.scatter([i for i in range(1,11)], tnt_acc, label=\"tnt\")\n",
    "plt.axis([0, 11, min(tnt_acc)-0.01, max(hmm_acc)+0.01])\n",
    "plt.legend(loc=\"upper right\")\n",
    "plt.show()"
   ]
  },
  {
   "cell_type": "code",
   "execution_count": 29,
   "metadata": {},
   "outputs": [
    {
     "data": {
      "image/png": "[encoded data removed]",
      "text/plain": [
       "<Figure size 432x288 with 1 Axes>"
      ]
     },
     "metadata": {
      "needs_background": "light"
     },
     "output_type": "display_data"
    }
   ],
   "source": [
    "plt.scatter([i for i in range(1,11)], hmm_acc_2, label=\"hmm\")\n",
    "plt.scatter([i for i in range(1,11)], tnt_acc_2, label=\"tnt\")\n",
    "plt.axis([0, 11, min(tnt_acc_2)-0.01, max(hmm_acc_2)+0.01])\n",
    "plt.legend(loc=\"upper right\")\n",
    "plt.show()"
   ]
  },
  {
   "cell_type": "code",
   "execution_count": null,
   "metadata": {},
   "outputs": [],
   "source": []
  }
 ],
 "metadata": {
  "kernelspec": {
   "display_name": "Python 3.7.11 ('TFG')",
   "language": "python",
   "name": "python3"
  },
  "language_info": {
   "codemirror_mode": {
    "name": "ipython",
    "version": 3
   },
   "file_extension": ".py",
   "mimetype": "text/x-python",
   "name": "python",
   "nbconvert_exporter": "python",
   "pygments_lexer": "ipython3",
   "version": "3.7.11"
  },
  "orig_nbformat": 4,
  "vscode": {
   "interpreter": {
    "hash": "cac8c148fe99531e69ba1d06939db520c9f4997d6650c8223f282d58b7ae5d8d"
   }
  }
 },
 "nbformat": 4,
 "nbformat_minor": 2
}
