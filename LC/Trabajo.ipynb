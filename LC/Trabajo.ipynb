{
 "cells": [
  {
   "cell_type": "markdown",
   "metadata": {},
   "source": [
    "# Tarea 1"
   ]
  },
  {
   "cell_type": "code",
   "execution_count": null,
   "metadata": {},
   "outputs": [],
   "source": [
    "import nltk\n",
    "import numpy as np\n",
    "nltk.download(\"cess_sp\")\n",
    "from nltk.corpus import cess_esp as cess"
   ]
  }
 ],
 "metadata": {
  "kernelspec": {
   "display_name": "Python 3.9.12 ('vencevu')",
   "language": "python",
   "name": "python3"
  },
  "language_info": {
   "name": "python",
   "version": "3.9.12"
  },
  "orig_nbformat": 4,
  "vscode": {
   "interpreter": {
    "hash": "88a2c52dd2244db0db2d2f6b636ef43ce35273efa1a6ae2eb619080e9fb1309e"
   }
  }
 },
 "nbformat": 4,
 "nbformat_minor": 2
}
