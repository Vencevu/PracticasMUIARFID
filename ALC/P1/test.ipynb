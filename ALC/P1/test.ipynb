{
 "cells": [
  {
   "cell_type": "code",
   "execution_count": 1,
   "metadata": {},
   "outputs": [],
   "source": [
    "import re"
   ]
  },
  {
   "cell_type": "code",
   "execution_count": 3,
   "metadata": {},
   "outputs": [
    {
     "data": {
      "text/plain": [
       "['Esta ',\n",
       " 'comarca ',\n",
       " 'tiene ',\n",
       " 'de ',\n",
       " 'su ',\n",
       " 'extensi',\n",
       " 'n ',\n",
       " 'en ',\n",
       " 'aguam ',\n",
       " 'de ',\n",
       " 'monata',\n",
       " 'as ',\n",
       " 'y ',\n",
       " 'el ',\n",
       " '25%',\n",
       " 'restante ',\n",
       " 'es ',\n",
       " 'de ',\n",
       " 'tierras ',\n",
       " 'cultivas',\n",
       " ',',\n",
       " 'en ',\n",
       " 'total ',\n",
       " '12000',\n",
       " 'km',\n",
       " '.']"
      ]
     },
     "execution_count": 3,
     "metadata": {},
     "output_type": "execute_result"
    }
   ],
   "source": [
    "specialDatePattern = re.compile(\n",
    "    r\"[A-Za-z]+\\s*|[(),\\'\\\"?¿!¡:;%]|\\.+|^\\d*[.,]?\\d*|\\S+@\\S+|\\d{1,2}:\\d{2}|http[s]?://[w{3}.]?\\S*|\\d{1,2}(?:|-)\\d{2}(?:|-)\\d{2,4}|@\\S+|#\\S+|[\\u263a-\\U0001f919]|\\d+%\"\n",
    ")\n",
    "\n",
    "dates = specialDatePattern.findall(\"Esta comarca tiene 1/4 de su extensión en aguam 1/2 de monatañas y el 25%  restante es de tierras cultivas, en total 12000 km2.\")\n",
    "dates"
   ]
  },
  {
   "cell_type": "code",
   "execution_count": null,
   "metadata": {},
   "outputs": [],
   "source": []
  }
 ],
 "metadata": {
  "kernelspec": {
   "display_name": "Vencevu",
   "language": "python",
   "name": "python3"
  },
  "language_info": {
   "codemirror_mode": {
    "name": "ipython",
    "version": 3
   },
   "file_extension": ".py",
   "mimetype": "text/x-python",
   "name": "python",
   "nbconvert_exporter": "python",
   "pygments_lexer": "ipython3",
   "version": "3.9.12"
  },
  "orig_nbformat": 4
 },
 "nbformat": 4,
 "nbformat_minor": 2
}
